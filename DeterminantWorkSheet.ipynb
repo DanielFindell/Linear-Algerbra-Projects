{
  "nbformat": 4,
  "nbformat_minor": 0,
  "metadata": {
    "colab": {
      "name": "DeterminantWorkSheet.ipynb",
      "provenance": [],
      "authorship_tag": "ABX9TyNGA53EwbsF9SxLvoOr3bqG",
      "include_colab_link": true
    },
    "kernelspec": {
      "name": "python3",
      "display_name": "Python 3"
    },
    "language_info": {
      "name": "python"
    }
  },
  "cells": [
    {
      "cell_type": "markdown",
      "metadata": {
        "id": "view-in-github",
        "colab_type": "text"
      },
      "source": [
        "<a href=\"https://colab.research.google.com/github/DanielFindell/Linear-Algerbra-Projects/blob/main/DeterminantWorkSheet.ipynb\" target=\"_parent\"><img src=\"https://colab.research.google.com/assets/colab-badge.svg\" alt=\"Open In Colab\"/></a>"
      ]
    },
    {
      "cell_type": "code",
      "metadata": {
        "id": "NJe3xVN6JQ3r"
      },
      "source": [
        "import matplotlib.pyplot as plt\n",
        "from sympy import Poly\n",
        "import sympy as sym\n",
        "import numpy as np\n",
        "from numpy import c_\n",
        "\n",
        "# We'll specify that x and t are variables:\n",
        "x, t = sym.symbols('x, t')\n",
        "\n",
        "ll = \"loaded\""
      ],
      "execution_count": 1,
      "outputs": []
    },
    {
      "cell_type": "code",
      "metadata": {
        "colab": {
          "base_uri": "https://localhost:8080/"
        },
        "id": "upWMwn7lJoMJ",
        "outputId": "a3f112d1-fd99-4775-bf32-558736a7404a"
      },
      "source": [
        "A = np.matrix([[10, 7], [8, 9]])\n",
        "B = np.matrix([[-10, -1], [-4, 7]])\n",
        "C = np.matrix([[1, -3], [7, 7]])\n",
        "print(A)\n",
        "print(B)\n",
        "print(C)"
      ],
      "execution_count": 10,
      "outputs": [
        {
          "output_type": "stream",
          "text": [
            "[[10  7]\n",
            " [ 8  9]]\n",
            "[[-10  -1]\n",
            " [ -4   7]]\n",
            "[[ 1 -3]\n",
            " [ 7  7]]\n"
          ],
          "name": "stdout"
        }
      ]
    },
    {
      "cell_type": "code",
      "metadata": {
        "colab": {
          "base_uri": "https://localhost:8080/"
        },
        "id": "WFarjY7YLFrU",
        "outputId": "9f3d1b31-2889-4bdc-fa5e-1a0d989aaa49"
      },
      "source": [
        "print(A*B)\n",
        "print(B*A)"
      ],
      "execution_count": 12,
      "outputs": [
        {
          "output_type": "stream",
          "text": [
            "[[-128   39]\n",
            " [-116   55]]\n",
            "[[-108  -79]\n",
            " [  16   35]]\n"
          ],
          "name": "stdout"
        }
      ]
    },
    {
      "cell_type": "code",
      "metadata": {
        "colab": {
          "base_uri": "https://localhost:8080/"
        },
        "id": "PDH44KvcL8TS",
        "outputId": "f0a4b50f-0dc9-4b25-fecf-ac98d26d446d"
      },
      "source": [
        "print(np.linalg.det(A*B))\n",
        "print(np.linalg.det(B*A))"
      ],
      "execution_count": 14,
      "outputs": [
        {
          "output_type": "stream",
          "text": [
            "-2515.999999999999\n",
            "-2516.0000000000014\n"
          ],
          "name": "stdout"
        }
      ]
    },
    {
      "cell_type": "code",
      "metadata": {
        "colab": {
          "base_uri": "https://localhost:8080/"
        },
        "id": "AN-xz0qYNap0",
        "outputId": "c84ba8ae-c488-4022-f4f6-4ad1f60e6af9"
      },
      "source": [
        "print(A*C)\n",
        "print(C*A)"
      ],
      "execution_count": 15,
      "outputs": [
        {
          "output_type": "stream",
          "text": [
            "[[59 19]\n",
            " [71 39]]\n",
            "[[-14 -20]\n",
            " [126 112]]\n"
          ],
          "name": "stdout"
        }
      ]
    },
    {
      "cell_type": "code",
      "metadata": {
        "colab": {
          "base_uri": "https://localhost:8080/"
        },
        "id": "Ywv-adtkOw8S",
        "outputId": "899363b7-bcec-4858-d963-2fe0492f20b6"
      },
      "source": [
        "print(B*C)\n",
        "print(C*B)"
      ],
      "execution_count": 16,
      "outputs": [
        {
          "output_type": "stream",
          "text": [
            "[[-17  23]\n",
            " [ 45  61]]\n",
            "[[  2 -22]\n",
            " [-98  42]]\n"
          ],
          "name": "stdout"
        }
      ]
    },
    {
      "cell_type": "markdown",
      "metadata": {
        "id": "3oBuREAUSl9d"
      },
      "source": [
        "2)."
      ]
    },
    {
      "cell_type": "code",
      "metadata": {
        "colab": {
          "base_uri": "https://localhost:8080/"
        },
        "id": "E_qJ4zAxRF2D",
        "outputId": "6cc06a8d-c018-49ee-9f27-1fbf9bbe1cbf"
      },
      "source": [
        "D = np.matrix([[3, 2, 3], [-6, 1, -10], [-8,-9,-9]])\n",
        "E = np.matrix([[1, -2, 1], [5, 5, 4], [4, 0, 0]])\n",
        "F = np.matrix([[1, 0, 0], [0, 2, 0], [-3, -2, 1]])\n",
        "print(D)\n",
        "print(E)\n",
        "print(F)"
      ],
      "execution_count": 21,
      "outputs": [
        {
          "output_type": "stream",
          "text": [
            "[[  3   2   3]\n",
            " [ -6   1 -10]\n",
            " [ -8  -9  -9]]\n",
            "[[ 1 -2  1]\n",
            " [ 5  5  4]\n",
            " [ 4  0  0]]\n",
            "[[ 1  0  0]\n",
            " [ 0  2  0]\n",
            " [-3 -2  1]]\n"
          ],
          "name": "stdout"
        }
      ]
    },
    {
      "cell_type": "markdown",
      "metadata": {
        "id": "Gam_OXMySuM1"
      },
      "source": [
        "A)."
      ]
    },
    {
      "cell_type": "code",
      "metadata": {
        "colab": {
          "base_uri": "https://localhost:8080/"
        },
        "id": "hCrGpBJPSxn2",
        "outputId": "ddf9a302-6728-43e3-ebce-2c333f47d4c5"
      },
      "source": [
        "print(np.linalg.det(D))\n",
        "print(np.linalg.det(E))\n",
        "print(np.linalg.det(F))"
      ],
      "execution_count": 23,
      "outputs": [
        {
          "output_type": "stream",
          "text": [
            "-58.999999999999964\n",
            "-51.999999999999986\n",
            "1.9999999999999998\n"
          ],
          "name": "stdout"
        }
      ]
    },
    {
      "cell_type": "markdown",
      "metadata": {
        "id": "Aqi1rZSVSfe_"
      },
      "source": [
        "B)."
      ]
    },
    {
      "cell_type": "code",
      "metadata": {
        "colab": {
          "base_uri": "https://localhost:8080/"
        },
        "id": "q0uEPnXoSF1h",
        "outputId": "4bc87b45-ced3-44ba-88d2-45a64c59fd29"
      },
      "source": [
        "print(D*E)\n",
        "print(E*D)\n",
        "print(np.linalg.det(D*E))\n",
        "print(np.linalg.det(E*D))"
      ],
      "execution_count": 22,
      "outputs": [
        {
          "output_type": "stream",
          "text": [
            "[[ 25   4  11]\n",
            " [-41  17  -2]\n",
            " [-89 -29 -44]]\n",
            "[[  7  -9  14]\n",
            " [-47 -21 -71]\n",
            " [ 12   8  12]]\n",
            "3067.9999999999973\n",
            "3067.9999999999973\n"
          ],
          "name": "stdout"
        }
      ]
    },
    {
      "cell_type": "markdown",
      "metadata": {
        "id": "_DrbAlxNTaPu"
      },
      "source": [
        "C)."
      ]
    },
    {
      "cell_type": "code",
      "metadata": {
        "colab": {
          "base_uri": "https://localhost:8080/"
        },
        "id": "xOERHUOUSeae",
        "outputId": "6e9eff99-1d96-4347-ccef-cc66536fa6e0"
      },
      "source": [
        "print(D*F)\n",
        "print(F*D)\n",
        "print(np.linalg.det(D*F))\n",
        "print(np.linalg.det(F*D))"
      ],
      "execution_count": 24,
      "outputs": [
        {
          "output_type": "stream",
          "text": [
            "[[ -6  -2   3]\n",
            " [ 24  22 -10]\n",
            " [ 19   0  -9]]\n",
            "[[  3   2   3]\n",
            " [-12   2 -20]\n",
            " [ -5 -17   2]]\n",
            "-118.00000000000004\n",
            "-118.00000000000004\n"
          ],
          "name": "stdout"
        }
      ]
    },
    {
      "cell_type": "markdown",
      "metadata": {
        "id": "qdpBAl4WUFjG"
      },
      "source": [
        "D)."
      ]
    },
    {
      "cell_type": "code",
      "metadata": {
        "colab": {
          "base_uri": "https://localhost:8080/"
        },
        "id": "Tce8GwYCUIpF",
        "outputId": "ca2a5c2f-9fd8-4833-a6d6-c07a729c98d6"
      },
      "source": [
        "print(E*F)\n",
        "print(F*E)\n",
        "print(np.linalg.det(E*F))\n",
        "print(np.linalg.det(F*E))"
      ],
      "execution_count": 25,
      "outputs": [
        {
          "output_type": "stream",
          "text": [
            "[[-2 -6  1]\n",
            " [-7  2  4]\n",
            " [ 4  0  0]]\n",
            "[[  1  -2   1]\n",
            " [ 10  10   8]\n",
            " [ -9  -4 -11]]\n",
            "-103.99999999999999\n",
            "-104.00000000000007\n"
          ],
          "name": "stdout"
        }
      ]
    }
  ]
}