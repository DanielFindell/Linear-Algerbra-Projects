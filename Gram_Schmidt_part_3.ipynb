{
  "nbformat": 4,
  "nbformat_minor": 0,
  "metadata": {
    "colab": {
      "name": "Gram Schmidt part 3",
      "provenance": [],
      "authorship_tag": "ABX9TyMknBqMgbV1pTWeE/0nM+dW",
      "include_colab_link": true
    },
    "kernelspec": {
      "name": "python3",
      "display_name": "Python 3"
    },
    "language_info": {
      "name": "python"
    }
  },
  "cells": [
    {
      "cell_type": "markdown",
      "metadata": {
        "id": "view-in-github",
        "colab_type": "text"
      },
      "source": [
        "<a href=\"https://colab.research.google.com/github/DanielFindell/Linear-Algerbra-Projects/blob/main/Gram_Schmidt_part_3.ipynb\" target=\"_parent\"><img src=\"https://colab.research.google.com/assets/colab-badge.svg\" alt=\"Open In Colab\"/></a>"
      ]
    },
    {
      "cell_type": "code",
      "metadata": {
        "id": "igEju8c0ljHr"
      },
      "source": [
        "import matplotlib.pyplot as plt\n",
        "from sympy import Poly\n",
        "import sympy as sym\n",
        "import numpy as np\n",
        "from numpy import c_\n",
        "\n",
        "# We'll specify that x and t are variables:\n",
        "x, t = sym.symbols('x, t')\n",
        "\n",
        "ll = \"loaded\""
      ],
      "execution_count": 3,
      "outputs": []
    },
    {
      "cell_type": "code",
      "metadata": {
        "id": "vrDG-MrumczD"
      },
      "source": [
        "r1 = [0, 3, -3, 0]\n",
        "r2 = [2, 6, -2, 2]\n",
        "r3 = [-2, 1, -3, 0]\n",
        "r4 = [2, -4, -2, -4]\n"
      ],
      "execution_count": 15,
      "outputs": []
    },
    {
      "cell_type": "code",
      "metadata": {
        "colab": {
          "base_uri": "https://localhost:8080/"
        },
        "id": "11dbmUd8m_hS",
        "outputId": "624f2e0c-1f7e-4005-a5ef-99bd2d1b9442"
      },
      "source": [
        "n1 = r1\n",
        "\n",
        "print(np.sqrt(np.dot( n1, n1)))\n",
        "\n",
        "u1 = n1/np.sqrt(np.dot( n1, n1))\n",
        "print(u1)"
      ],
      "execution_count": 16,
      "outputs": [
        {
          "output_type": "stream",
          "text": [
            "4.242640687119285\n",
            "[ 0.          0.70710678 -0.70710678  0.        ]\n"
          ],
          "name": "stdout"
        }
      ]
    },
    {
      "cell_type": "code",
      "metadata": {
        "colab": {
          "base_uri": "https://localhost:8080/"
        },
        "id": "txUS-F6Yo8Yp",
        "outputId": "49487325-cbba-4eec-d22f-8d0a695a42a3"
      },
      "source": [
        "np.dot(u1,u1)"
      ],
      "execution_count": 17,
      "outputs": [
        {
          "output_type": "execute_result",
          "data": {
            "text/plain": [
              "1.0000000000000002"
            ]
          },
          "metadata": {
            "tags": []
          },
          "execution_count": 17
        }
      ]
    },
    {
      "cell_type": "code",
      "metadata": {
        "colab": {
          "base_uri": "https://localhost:8080/"
        },
        "id": "rpOns0Jqnw5g",
        "outputId": "d6f688f8-9368-4b53-b377-07456db37a79"
      },
      "source": [
        "n2 = r2 - np.dot(r2, u1) * u1\n",
        "\n",
        "print(n2)\n",
        "\n",
        "print(np.sqrt(np.dot( n2, n2)))\n",
        "\n",
        "u2 = n2/np.sqrt(np.dot( n2, n2))\n",
        "print(u2)"
      ],
      "execution_count": 18,
      "outputs": [
        {
          "output_type": "stream",
          "text": [
            "[2. 2. 2. 2.]\n",
            "4.0\n",
            "[0.5 0.5 0.5 0.5]\n"
          ],
          "name": "stdout"
        }
      ]
    },
    {
      "cell_type": "code",
      "metadata": {
        "colab": {
          "base_uri": "https://localhost:8080/"
        },
        "id": "I4bfs8_4njf3",
        "outputId": "09d2b47c-a844-41d1-cdb6-5c86e48480c2"
      },
      "source": [
        "print(np.dot(u1,u2))\n",
        "\n",
        "print(np.dot(u2,u2))"
      ],
      "execution_count": 19,
      "outputs": [
        {
          "output_type": "stream",
          "text": [
            "-3.2354269956215097e-16\n",
            "1.0\n"
          ],
          "name": "stdout"
        }
      ]
    },
    {
      "cell_type": "code",
      "metadata": {
        "colab": {
          "base_uri": "https://localhost:8080/"
        },
        "id": "e9rXAEAyn17w",
        "outputId": "0a1e84d9-6c05-4087-90fb-41258a0f6920"
      },
      "source": [
        "n3 = r3 - np.dot(r3, u1) * u1 - np.dot(r3, u2) * u2\n",
        "\n",
        "print(n3)\n",
        "\n",
        "print(np.sqrt(np.dot( n3, n3)))\n",
        "\n",
        "u3 = n3/np.sqrt(np.dot( n3, n3))\n",
        "print(u3)"
      ],
      "execution_count": 20,
      "outputs": [
        {
          "output_type": "stream",
          "text": [
            "[-1.00000000e+00 -4.44089210e-16  1.33226763e-15  1.00000000e+00]\n",
            "1.4142135623730951\n",
            "[-7.07106781e-01 -3.14018492e-16  9.42055475e-16  7.07106781e-01]\n"
          ],
          "name": "stdout"
        }
      ]
    },
    {
      "cell_type": "code",
      "metadata": {
        "colab": {
          "base_uri": "https://localhost:8080/"
        },
        "id": "HCvrbANboe0r",
        "outputId": "c3ce072f-f06e-4010-ac41-6d0dcfa6ad84"
      },
      "source": [
        "print(np.dot(u1,u3))\n",
        "\n",
        "print(np.dot(u2,u3))\n",
        "\n",
        "print(np.dot(u3,u3))"
      ],
      "execution_count": 21,
      "outputs": [
        {
          "output_type": "stream",
          "text": [
            "-8.881784197001252e-16\n",
            "6.106226635438361e-16\n",
            "0.9999999999999998\n"
          ],
          "name": "stdout"
        }
      ]
    },
    {
      "cell_type": "code",
      "metadata": {
        "colab": {
          "base_uri": "https://localhost:8080/"
        },
        "id": "t5cKTQv0ow2A",
        "outputId": "7693a804-da75-4bd7-e0bf-be1bec7d1654"
      },
      "source": [
        "n4 = r4 - np.dot(r4, u1) * u1 - np.dot(r4, u2) * u2 - np.dot(r4, u3) * u3\n",
        "\n",
        "print(n4)\n",
        "\n",
        "print(np.sqrt(np.dot( n4, n4)))\n",
        "\n",
        "u4 = n4/np.sqrt(np.dot( n4, n4))\n",
        "print(u4)"
      ],
      "execution_count": 22,
      "outputs": [
        {
          "output_type": "stream",
          "text": [
            "[ 1. -1. -1.  1.]\n",
            "2.0000000000000004\n",
            "[ 0.5 -0.5 -0.5  0.5]\n"
          ],
          "name": "stdout"
        }
      ]
    },
    {
      "cell_type": "code",
      "metadata": {
        "colab": {
          "base_uri": "https://localhost:8080/"
        },
        "id": "msV_pkAgpCx1",
        "outputId": "d7b0db72-a30a-4465-b26b-6444fbc4b88a"
      },
      "source": [
        "print(np.dot(u1,u4))\n",
        "\n",
        "print(np.dot(u2,u4))\n",
        "\n",
        "print(np.dot(u3,u4))\n",
        "\n",
        "print(np.dot(u4,u4))"
      ],
      "execution_count": 23,
      "outputs": [
        {
          "output_type": "stream",
          "text": [
            "-2.4257531988555737e-15\n",
            "1.1657341758564144e-15\n",
            "5.945620728339695e-17\n",
            "0.9999999999999999\n"
          ],
          "name": "stdout"
        }
      ]
    },
    {
      "cell_type": "code",
      "metadata": {
        "colab": {
          "base_uri": "https://localhost:8080/"
        },
        "id": "SXtW1jOhqHgZ",
        "outputId": "2be53fdc-6903-4249-e5d2-9a3d50b89c85"
      },
      "source": [
        "w = [11, 5, 20, 19]\n",
        "print(w)\n"
      ],
      "execution_count": 24,
      "outputs": [
        {
          "output_type": "stream",
          "text": [
            "[11, 5, 20, 19]\n"
          ],
          "name": "stdout"
        }
      ]
    },
    {
      "cell_type": "code",
      "metadata": {
        "colab": {
          "base_uri": "https://localhost:8080/"
        },
        "id": "xysd12UuqTyF",
        "outputId": "e99071cc-3d39-4ebf-9377-1a3f9de9d590"
      },
      "source": [
        "print(np.dot(u1,w))\n",
        "\n",
        "print(np.dot(u2,w))\n",
        "\n",
        "print(np.dot(u3,w))\n",
        "\n",
        "print(np.dot(u4,w))"
      ],
      "execution_count": 25,
      "outputs": [
        {
          "output_type": "stream",
          "text": [
            "-10.606601717798213\n",
            "27.500000000000004\n",
            "5.656854249492407\n",
            "2.5000000000000586\n"
          ],
          "name": "stdout"
        }
      ]
    }
  ]
}